{
 "cells": [
  {
   "cell_type": "markdown",
   "metadata": {},
   "source": [
    "-understand semantic word vectors\n",
    "-understand sentiment analysis\n",
    "-leverage sentiment analysis for text classifition"
   ]
  },
  {
   "cell_type": "markdown",
   "metadata": {},
   "source": [
    "word2vec is two-layer neutral network that processes text.Input is the text corpus, and output is set of vectors: feature vectors for words "
   ]
  },
  {
   "cell_type": "markdown",
   "metadata": {},
   "source": [
    "the purpose and usefulness of word2vec is to group the vectors of similar words together in vectorspace; that it detects similarities "
   ]
  },
  {
   "cell_type": "code",
   "execution_count": 17,
   "metadata": {},
   "outputs": [],
   "source": [
    "import spacy"
   ]
  },
  {
   "cell_type": "code",
   "execution_count": 18,
   "metadata": {},
   "outputs": [],
   "source": [
    "nlp=spacy.load('en_core_web_md')"
   ]
  },
  {
   "cell_type": "code",
   "execution_count": 19,
   "metadata": {},
   "outputs": [
    {
     "data": {
      "text/plain": [
       "array([-1.95381984e-01, -1.01039996e-02, -4.98833917e-02,  1.37300000e-01,\n",
       "        5.62640000e-03,  6.10530488e-02, -1.38754010e-01,  9.18832049e-02,\n",
       "        2.27846786e-01,  2.06998205e+00, -1.93725973e-01, -1.13400355e-01,\n",
       "        3.59037928e-02, -1.77332342e-01, -2.51285017e-01,  3.52811925e-02,\n",
       "       -3.72081921e-02,  7.71188021e-01, -1.22511007e-01, -2.68925995e-01,\n",
       "       -9.66100022e-02,  1.20412391e-02,  3.31263952e-02, -2.42412418e-01,\n",
       "        5.87682799e-02,  6.40620012e-03, -1.97531998e-01, -1.75930783e-01,\n",
       "        1.16616013e-02, -2.15608403e-01, -1.06816545e-01,  3.20671976e-01,\n",
       "        9.76475924e-02,  3.04087996e-02,  7.68330097e-02, -1.30164593e-01,\n",
       "       -7.43820071e-02,  2.88162790e-02, -3.01937796e-02, -1.18265606e-01,\n",
       "        1.02037407e-01,  2.27028038e-02, -3.59663442e-02, -1.62945986e-01,\n",
       "        1.93638220e-01,  1.64349198e-01, -2.13824794e-01, -4.97430414e-02,\n",
       "        1.21288195e-01,  4.31587957e-02, -1.67401195e-01,  6.79215938e-02,\n",
       "       -6.88942000e-02, -3.18694040e-02, -7.67331943e-02, -3.28551866e-02,\n",
       "        7.55218044e-02,  1.69851810e-01, -6.67793974e-02, -7.21675977e-02,\n",
       "        1.45526811e-01,  1.94555789e-01, -5.27703986e-02,  9.12239999e-02,\n",
       "        1.49831995e-01, -8.20072070e-02,  5.48800221e-03, -2.41360012e-02,\n",
       "        1.86850816e-01, -3.86160016e-02,  8.46125931e-02,  5.17572053e-02,\n",
       "        1.50363594e-01,  1.10413000e-01, -2.75293980e-02, -1.75677001e-01,\n",
       "        4.42305207e-02, -1.96174592e-01,  1.64908040e-02,  1.72628611e-01,\n",
       "        5.51019330e-03,  1.39205396e-01,  2.00039893e-03,  4.52502078e-04,\n",
       "        1.25278860e-01,  9.91970003e-02,  2.64441401e-01,  2.15864733e-01,\n",
       "        2.16763407e-01,  2.00724602e-01, -3.81000079e-02,  3.03244051e-02,\n",
       "       -7.82799721e-03, -1.89999223e-01,  1.90639980e-02, -5.53392060e-02,\n",
       "       -8.64156038e-02, -6.58819973e-02,  1.58199996e-01, -1.43174604e-01,\n",
       "       -3.68377976e-02, -7.62200356e-03, -1.79337412e-01, -6.85753971e-02,\n",
       "        5.30720055e-02, -7.16262043e-01,  2.21972778e-01, -1.11239396e-01,\n",
       "        7.46399770e-03, -1.21882997e-01,  3.37894037e-02, -1.79479599e-01,\n",
       "        2.41446584e-01, -1.31339610e-01,  8.55426043e-02,  1.41267195e-01,\n",
       "       -5.44568002e-02,  6.39799982e-02,  1.98042005e-01,  1.07609197e-01,\n",
       "        8.97432044e-02, -1.30393192e-01, -7.35899955e-02, -1.80863798e-01,\n",
       "       -3.22558582e-01,  2.71050036e-02, -1.15165196e-01, -4.99460027e-02,\n",
       "       -6.45274073e-02, -4.85470444e-02,  1.23884026e-02, -3.49120353e-03,\n",
       "       -2.07480595e-01,  2.38432027e-02,  1.45161390e-01, -1.26778603e-01,\n",
       "       -1.71771020e-01,  7.70366043e-02, -2.40059802e-03, -1.19038001e-01,\n",
       "       -1.74713993e+00, -4.93073985e-02,  9.48358029e-02, -5.07859960e-02,\n",
       "        2.71925986e-01, -1.14481211e-01, -5.23080006e-02, -3.30522060e-02,\n",
       "        1.02069996e-01,  1.34821400e-01, -2.38540005e-02, -5.47134057e-02,\n",
       "        1.33467183e-01, -1.01225197e-01, -1.71522200e-01, -1.33283004e-01,\n",
       "        9.43360012e-03,  3.04916412e-01,  1.56149596e-01, -6.07197993e-02,\n",
       "       -9.13331956e-02, -9.10817906e-02, -2.59536415e-01, -1.64026991e-01,\n",
       "       -1.59642786e-01, -9.98526067e-02, -1.14089968e-02, -8.25142041e-02,\n",
       "       -1.84881464e-01, -1.07923999e-01,  1.43841803e-01,  3.13300081e-02,\n",
       "       -2.45076016e-01, -1.11050986e-01, -3.92424017e-01, -9.25071985e-02,\n",
       "        2.31980205e-01, -1.70446020e-02, -6.40366003e-02, -1.17546201e-01,\n",
       "        9.05074030e-02, -2.66390979e-01, -2.18323991e-01, -7.81559944e-02,\n",
       "        1.23506591e-01, -1.44117594e-01, -2.22134013e-02, -9.00162011e-02,\n",
       "        1.15900800e-01,  8.52743816e-03,  2.50611782e-01,  6.55376017e-02,\n",
       "        6.34913594e-02,  1.78066209e-01, -5.24480417e-02,  1.47297204e-01,\n",
       "        1.38462603e-01,  4.26220000e-02, -3.48679945e-02, -2.38420069e-02,\n",
       "       -7.60879964e-02, -4.54800054e-02, -2.78136432e-01, -7.28201792e-02,\n",
       "        2.04010010e-01,  7.36549646e-02,  1.41787995e-02, -1.92199394e-01,\n",
       "       -1.06697321e-01, -3.21900025e-02, -4.71517965e-02, -3.92100029e-02,\n",
       "        4.01964001e-02,  1.93344399e-01,  2.05462035e-02,  1.53331995e-01,\n",
       "       -2.68040001e-01,  1.05582215e-01, -5.77815957e-02,  1.48809806e-01,\n",
       "        4.49209996e-02,  5.99040017e-02, -1.27831191e-01,  5.79779148e-02,\n",
       "       -3.31319749e-01, -2.11025387e-01,  1.89910606e-01,  1.97035998e-01,\n",
       "        7.67745972e-02,  3.14315975e-01, -1.47044007e-02,  3.93610038e-02,\n",
       "       -2.48804577e-02, -8.46230015e-02,  6.08943999e-02, -1.33457989e-01,\n",
       "        1.00584002e-02,  5.01043200e-02,  6.95948154e-02,  7.90896043e-02,\n",
       "       -5.05060069e-02, -9.97698084e-02,  8.57760198e-03, -5.19278925e-03,\n",
       "        1.13315903e-01, -2.90475786e-01, -5.65456040e-02,  7.26648048e-02,\n",
       "       -1.29597396e-01,  7.27501959e-02, -5.02821915e-02, -1.05913803e-01,\n",
       "       -7.52700120e-02,  4.30680029e-02,  1.69188797e-01,  1.22419998e-01,\n",
       "        1.76537007e-01,  1.30574390e-01, -8.39620009e-02, -8.77295956e-02,\n",
       "        2.25479990e-01,  1.41801000e-01,  1.26021788e-01, -2.90893197e-01,\n",
       "        3.69944006e-01, -2.79507220e-01,  6.37373999e-02, -4.75444086e-02,\n",
       "       -3.17978039e-02, -3.18260007e-02,  7.28066117e-02,  1.69805810e-01,\n",
       "       -9.85461399e-02, -4.57440019e-02,  4.46837954e-02, -2.54703760e-02,\n",
       "        4.30379994e-02,  1.16040193e-01,  1.30515937e-02,  3.12072039e-02,\n",
       "        7.53765926e-02,  5.74131981e-02, -1.63018391e-01,  2.53452808e-01,\n",
       "        3.14009972e-02, -9.39252004e-02,  1.46119986e-02, -2.13903971e-02,\n",
       "       -5.15457913e-02, -4.20004144e-05, -3.33980024e-01,  8.02240074e-02,\n",
       "        4.33754027e-02, -1.35719981e-02, -7.12316036e-02, -1.54618785e-01,\n",
       "        2.98465975e-02,  1.18046388e-01, -3.56358066e-02, -4.16556075e-02],\n",
       "      dtype=float32)"
      ]
     },
     "execution_count": 19,
     "metadata": {},
     "output_type": "execute_result"
    }
   ],
   "source": [
    "nlp(u'The quick fox jumped over').vector"
   ]
  },
  {
   "cell_type": "code",
   "execution_count": 20,
   "metadata": {},
   "outputs": [
    {
     "data": {
      "text/plain": [
       "(300,)"
      ]
     },
     "execution_count": 20,
     "metadata": {},
     "output_type": "execute_result"
    }
   ],
   "source": [
    "nlp(u'The quick fox jumped over').vector.shape  #300 dimension vector"
   ]
  },
  {
   "cell_type": "code",
   "execution_count": 21,
   "metadata": {},
   "outputs": [
    {
     "data": {
      "text/plain": [
       "(300,)"
      ]
     },
     "execution_count": 21,
     "metadata": {},
     "output_type": "execute_result"
    }
   ],
   "source": [
    "nlp(u'fox').vector.shape"
   ]
  },
  {
   "cell_type": "code",
   "execution_count": 22,
   "metadata": {},
   "outputs": [],
   "source": [
    "token=nlp(u'lion cat pet')"
   ]
  },
  {
   "cell_type": "code",
   "execution_count": 23,
   "metadata": {},
   "outputs": [
    {
     "name": "stdout",
     "output_type": "stream",
     "text": [
      "lion lion 1.0\n",
      "lion cat 0.5265437\n",
      "lion pet 0.39923772\n",
      "cat lion 0.5265437\n",
      "cat cat 1.0\n",
      "cat pet 0.7505456\n",
      "pet lion 0.39923772\n",
      "pet cat 0.7505456\n",
      "pet pet 1.0\n"
     ]
    }
   ],
   "source": [
    "for token1 in token:\n",
    "    for token2 in token:\n",
    "        print(token1.text,token2.text,token1.similarity(token2))"
   ]
  },
  {
   "cell_type": "code",
   "execution_count": 24,
   "metadata": {},
   "outputs": [
    {
     "name": "stdout",
     "output_type": "stream",
     "text": [
      "like like 1.0\n",
      "like love 0.65790397\n",
      "like hate 0.6574652\n",
      "love like 0.65790397\n",
      "love love 1.0\n",
      "love hate 0.6393099\n",
      "hate like 0.6574652\n",
      "hate love 0.6393099\n",
      "hate hate 1.0\n"
     ]
    },
    {
     "data": {
      "text/plain": [
       "'here it shows that although love and hate are the opposite meaning, \\nbut since they are often used in similar context(love a movie and hate a movie)'"
      ]
     },
     "execution_count": 24,
     "metadata": {},
     "output_type": "execute_result"
    }
   ],
   "source": [
    "tokens=nlp(u'like love hate') \n",
    "for token1 in tokens:\n",
    "    for token2 in tokens:\n",
    "        print(token1.text,token2.text,token1.similarity(token2))\n",
    "        \n",
    "'''here it shows that although love and hate are the opposite meaning, \n",
    "but since they are often used in similar context(love a movie and hate a movie)'''"
   ]
  },
  {
   "cell_type": "code",
   "execution_count": 25,
   "metadata": {},
   "outputs": [
    {
     "data": {
      "text/plain": [
       "20000"
      ]
     },
     "execution_count": 25,
     "metadata": {},
     "output_type": "execute_result"
    }
   ],
   "source": [
    "len(nlp.vocab.vectors) #there is essentially 20000 unique words in the vocabulary (large one has 684831)"
   ]
  },
  {
   "cell_type": "code",
   "execution_count": 26,
   "metadata": {},
   "outputs": [
    {
     "data": {
      "text/plain": [
       "(20000, 300)"
      ]
     },
     "execution_count": 26,
     "metadata": {},
     "output_type": "execute_result"
    }
   ],
   "source": [
    "nlp.vocab.vectors.shape #this means that every word has 300 meanings, so the shape is 20000*300"
   ]
  },
  {
   "cell_type": "code",
   "execution_count": 27,
   "metadata": {},
   "outputs": [
    {
     "name": "stdout",
     "output_type": "stream",
     "text": [
      "dog True 7.0336733 False\n",
      "cat True 6.6808186 False\n",
      "nargle False 0.0 True\n"
     ]
    }
   ],
   "source": [
    "# to check if the word has vector, or it is out of the vocabulary\n",
    "tokens=nlp(u'dog cat nargle')\n",
    "for token in tokens:\n",
    "    print(token.text,token.has_vector,token.vector_norm,token.is_oov)"
   ]
  },
  {
   "cell_type": "markdown",
   "metadata": {},
   "source": [
    "### arithmatic of vectors\n",
    "by adding two vectors to create a new vector"
   ]
  },
  {
   "cell_type": "code",
   "execution_count": 28,
   "metadata": {},
   "outputs": [],
   "source": [
    "from scipy import spatial "
   ]
  },
  {
   "cell_type": "code",
   "execution_count": 29,
   "metadata": {},
   "outputs": [],
   "source": [
    "cosine_similarity=lambda vec1,vec2:1-spatial.distance.cosine(vec1,vec2)"
   ]
  },
  {
   "cell_type": "code",
   "execution_count": 30,
   "metadata": {},
   "outputs": [],
   "source": [
    "king=nlp.vocab['king'].vector\n",
    "man=nlp.vocab['man'].vector\n",
    "woman=nlp.vocab['woman'].vector"
   ]
  },
  {
   "cell_type": "code",
   "execution_count": 31,
   "metadata": {},
   "outputs": [],
   "source": [
    "# king-man+woman-----> new vector similar to Queen,princess and highness"
   ]
  },
  {
   "cell_type": "code",
   "execution_count": 32,
   "metadata": {},
   "outputs": [],
   "source": [
    "new_vector=king-man+woman"
   ]
  },
  {
   "cell_type": "code",
   "execution_count": 33,
   "metadata": {},
   "outputs": [],
   "source": [
    "compute_similarities=[ ]\n",
    "#for all words in vocabulary\n",
    "for word in nlp.vocab:\n",
    "    if word.has_vector: #the word has vector\n",
    "        if word.is_lower: #the word is lower case\n",
    "            if word.is_alpha: #the word should not be number\n",
    "                similarity=cosine_similarity(new_vector,word.vector)\n",
    "                compute_similarities.append((word,similarity)) #append a tuple! so we use ()\n",
    "            "
   ]
  },
  {
   "cell_type": "code",
   "execution_count": 34,
   "metadata": {},
   "outputs": [],
   "source": [
    "computed_similarities=sorted(compute_similarities,key=lambda item:-item[1])  \n",
    "#this is a fancy way of sorting, because item[1] is similarity, and - this is in the descending order"
   ]
  },
  {
   "cell_type": "code",
   "execution_count": 35,
   "metadata": {},
   "outputs": [
    {
     "name": "stdout",
     "output_type": "stream",
     "text": [
      "['king', 'queen', 'commoner', 'highness', 'prince', 'sultan', 'maharajas', 'princes', 'kumbia', 'kings']\n"
     ]
    }
   ],
   "source": [
    "print([t[0].text for t in computed_similarities[:10]]) #print the first ten texts sorted by similarities (descending)"
   ]
  },
  {
   "cell_type": "markdown",
   "metadata": {},
   "source": [
    "# sentiment analysis\n",
    "how to discern sentiment on raw unlabeled text ?\n",
    "VADER(Valence Aware Dictionary for Sentiment Reasoning) is a model used for sentiment analysis that is useful for both polarity(positive/negative) and intensity(strength) of emotion.\n",
    "it is in NLTK package, and can be directly used for unlabeld text"
   ]
  },
  {
   "cell_type": "code",
   "execution_count": 36,
   "metadata": {},
   "outputs": [],
   "source": [
    "import nltk"
   ]
  },
  {
   "cell_type": "code",
   "execution_count": 37,
   "metadata": {},
   "outputs": [
    {
     "name": "stderr",
     "output_type": "stream",
     "text": [
      "[nltk_data] Downloading package vader_lexicon to\n",
      "[nltk_data]     /Users/gongchunyan/nltk_data...\n",
      "[nltk_data]   Package vader_lexicon is already up-to-date!\n"
     ]
    },
    {
     "data": {
      "text/plain": [
       "True"
      ]
     },
     "execution_count": 37,
     "metadata": {},
     "output_type": "execute_result"
    }
   ],
   "source": [
    "nltk.download('vader_lexicon')"
   ]
  },
  {
   "cell_type": "code",
   "execution_count": 38,
   "metadata": {},
   "outputs": [],
   "source": [
    "from nltk.sentiment.vader import SentimentIntensityAnalyzer"
   ]
  },
  {
   "cell_type": "code",
   "execution_count": 39,
   "metadata": {},
   "outputs": [],
   "source": [
    "#create an instance of it, called std\n",
    "sid=SentimentIntensityAnalyzer()"
   ]
  },
  {
   "cell_type": "code",
   "execution_count": 40,
   "metadata": {},
   "outputs": [],
   "source": [
    "a='This is a good movie'"
   ]
  },
  {
   "cell_type": "code",
   "execution_count": 41,
   "metadata": {},
   "outputs": [
    {
     "data": {
      "text/plain": [
       "{'neg': 0.0, 'neu': 0.508, 'pos': 0.492, 'compound': 0.4404}"
      ]
     },
     "execution_count": 41,
     "metadata": {},
     "output_type": "execute_result"
    }
   ],
   "source": [
    "sid.polarity_scores(a)"
   ]
  },
  {
   "cell_type": "code",
   "execution_count": 42,
   "metadata": {},
   "outputs": [],
   "source": [
    "a1='This was the best,most awesome movie EVER MADE!!!!'"
   ]
  },
  {
   "cell_type": "code",
   "execution_count": 43,
   "metadata": {},
   "outputs": [
    {
     "data": {
      "text/plain": [
       "{'neg': 0.0, 'neu': 0.571, 'pos': 0.429, 'compound': 0.7405}"
      ]
     },
     "execution_count": 43,
     "metadata": {},
     "output_type": "execute_result"
    }
   ],
   "source": [
    "sid.polarity_scores(a1)"
   ]
  },
  {
   "cell_type": "code",
   "execution_count": 44,
   "metadata": {},
   "outputs": [],
   "source": [
    "a2='This was the worst movie i have ever seen!'"
   ]
  },
  {
   "cell_type": "code",
   "execution_count": 45,
   "metadata": {},
   "outputs": [
    {
     "data": {
      "text/plain": [
       "{'neg': 0.386, 'neu': 0.614, 'pos': 0.0, 'compound': -0.6588}"
      ]
     },
     "execution_count": 45,
     "metadata": {},
     "output_type": "execute_result"
    }
   ],
   "source": [
    "sid.polarity_scores(a2)"
   ]
  },
  {
   "cell_type": "code",
   "execution_count": 46,
   "metadata": {},
   "outputs": [],
   "source": [
    "import pandas as pd"
   ]
  },
  {
   "cell_type": "code",
   "execution_count": 47,
   "metadata": {},
   "outputs": [],
   "source": [
    "df=pd.read_csv('amazonreviews.tsv',sep='\\t')"
   ]
  },
  {
   "cell_type": "code",
   "execution_count": 48,
   "metadata": {},
   "outputs": [
    {
     "data": {
      "text/html": [
       "<div>\n",
       "<style scoped>\n",
       "    .dataframe tbody tr th:only-of-type {\n",
       "        vertical-align: middle;\n",
       "    }\n",
       "\n",
       "    .dataframe tbody tr th {\n",
       "        vertical-align: top;\n",
       "    }\n",
       "\n",
       "    .dataframe thead th {\n",
       "        text-align: right;\n",
       "    }\n",
       "</style>\n",
       "<table border=\"1\" class=\"dataframe\">\n",
       "  <thead>\n",
       "    <tr style=\"text-align: right;\">\n",
       "      <th></th>\n",
       "      <th>label</th>\n",
       "      <th>review</th>\n",
       "    </tr>\n",
       "  </thead>\n",
       "  <tbody>\n",
       "    <tr>\n",
       "      <th>0</th>\n",
       "      <td>pos</td>\n",
       "      <td>Stuning even for the non-gamer: This sound tra...</td>\n",
       "    </tr>\n",
       "    <tr>\n",
       "      <th>1</th>\n",
       "      <td>pos</td>\n",
       "      <td>The best soundtrack ever to anything.: I'm rea...</td>\n",
       "    </tr>\n",
       "    <tr>\n",
       "      <th>2</th>\n",
       "      <td>pos</td>\n",
       "      <td>Amazing!: This soundtrack is my favorite music...</td>\n",
       "    </tr>\n",
       "    <tr>\n",
       "      <th>3</th>\n",
       "      <td>pos</td>\n",
       "      <td>Excellent Soundtrack: I truly like this soundt...</td>\n",
       "    </tr>\n",
       "    <tr>\n",
       "      <th>4</th>\n",
       "      <td>pos</td>\n",
       "      <td>Remember, Pull Your Jaw Off The Floor After He...</td>\n",
       "    </tr>\n",
       "  </tbody>\n",
       "</table>\n",
       "</div>"
      ],
      "text/plain": [
       "  label                                             review\n",
       "0   pos  Stuning even for the non-gamer: This sound tra...\n",
       "1   pos  The best soundtrack ever to anything.: I'm rea...\n",
       "2   pos  Amazing!: This soundtrack is my favorite music...\n",
       "3   pos  Excellent Soundtrack: I truly like this soundt...\n",
       "4   pos  Remember, Pull Your Jaw Off The Floor After He..."
      ]
     },
     "execution_count": 48,
     "metadata": {},
     "output_type": "execute_result"
    }
   ],
   "source": [
    "df.head()"
   ]
  },
  {
   "cell_type": "code",
   "execution_count": 49,
   "metadata": {},
   "outputs": [
    {
     "data": {
      "text/plain": [
       "neg    4971\n",
       "pos    4780\n",
       "Name: label, dtype: int64"
      ]
     },
     "execution_count": 49,
     "metadata": {},
     "output_type": "execute_result"
    }
   ],
   "source": [
    "df['label'].value_counts()"
   ]
  },
  {
   "cell_type": "code",
   "execution_count": 50,
   "metadata": {},
   "outputs": [],
   "source": [
    "df.dropna(inplace=True)"
   ]
  },
  {
   "cell_type": "code",
   "execution_count": 51,
   "metadata": {},
   "outputs": [],
   "source": [
    "#check if there is any blanks in the reviews\n",
    "blanks=[]\n",
    "for i,lb,rv in df.itertuples():\n",
    "    #index,label,review\n",
    "    if type(rv)==str:\n",
    "        if rv.isspace():\n",
    "            blanks.append(i)"
   ]
  },
  {
   "cell_type": "code",
   "execution_count": 52,
   "metadata": {},
   "outputs": [
    {
     "data": {
      "text/plain": [
       "[]"
      ]
     },
     "execution_count": 52,
     "metadata": {},
     "output_type": "execute_result"
    }
   ],
   "source": [
    "blanks"
   ]
  },
  {
   "cell_type": "code",
   "execution_count": 53,
   "metadata": {},
   "outputs": [],
   "source": [
    "#if there is any blanks,we drop those blanks\n",
    "df.drop(blanks,inplace=True)"
   ]
  },
  {
   "cell_type": "code",
   "execution_count": 54,
   "metadata": {},
   "outputs": [
    {
     "data": {
      "text/plain": [
       "'Stuning even for the non-gamer: This sound track was beautiful! It paints the senery in your mind so well I would recomend it even to people who hate vid. game music! I have played the game Chrono Cross but out of all of the games I have ever played it has the best music! It backs away from crude keyboarding and takes a fresher step with grate guitars and soulful orchestras. It would impress anyone who cares to listen! ^_^'"
      ]
     },
     "execution_count": 54,
     "metadata": {},
     "output_type": "execute_result"
    }
   ],
   "source": [
    "#check the polarity of the first review\n",
    "df.iloc[0]['review']"
   ]
  },
  {
   "cell_type": "code",
   "execution_count": 55,
   "metadata": {},
   "outputs": [
    {
     "data": {
      "text/plain": [
       "{'neg': 0.088, 'neu': 0.669, 'pos': 0.243, 'compound': 0.9454}"
      ]
     },
     "execution_count": 55,
     "metadata": {},
     "output_type": "execute_result"
    }
   ],
   "source": [
    "sid.polarity_scores(df.iloc[0]['review'])"
   ]
  },
  {
   "cell_type": "code",
   "execution_count": 60,
   "metadata": {},
   "outputs": [],
   "source": [
    "df['scores']=df['review'].apply(lambda review:sid.polarity_scores(review)) #get the score for every single review"
   ]
  },
  {
   "cell_type": "code",
   "execution_count": 61,
   "metadata": {},
   "outputs": [
    {
     "data": {
      "text/html": [
       "<div>\n",
       "<style scoped>\n",
       "    .dataframe tbody tr th:only-of-type {\n",
       "        vertical-align: middle;\n",
       "    }\n",
       "\n",
       "    .dataframe tbody tr th {\n",
       "        vertical-align: top;\n",
       "    }\n",
       "\n",
       "    .dataframe thead th {\n",
       "        text-align: right;\n",
       "    }\n",
       "</style>\n",
       "<table border=\"1\" class=\"dataframe\">\n",
       "  <thead>\n",
       "    <tr style=\"text-align: right;\">\n",
       "      <th></th>\n",
       "      <th>label</th>\n",
       "      <th>review</th>\n",
       "      <th>scores</th>\n",
       "      <th>compound</th>\n",
       "    </tr>\n",
       "  </thead>\n",
       "  <tbody>\n",
       "    <tr>\n",
       "      <th>0</th>\n",
       "      <td>pos</td>\n",
       "      <td>Stuning even for the non-gamer: This sound tra...</td>\n",
       "      <td>{'neg': 0.088, 'neu': 0.669, 'pos': 0.243, 'co...</td>\n",
       "      <td>0.0</td>\n",
       "    </tr>\n",
       "    <tr>\n",
       "      <th>1</th>\n",
       "      <td>pos</td>\n",
       "      <td>The best soundtrack ever to anything.: I'm rea...</td>\n",
       "      <td>{'neg': 0.018, 'neu': 0.837, 'pos': 0.145, 'co...</td>\n",
       "      <td>0.0</td>\n",
       "    </tr>\n",
       "    <tr>\n",
       "      <th>2</th>\n",
       "      <td>pos</td>\n",
       "      <td>Amazing!: This soundtrack is my favorite music...</td>\n",
       "      <td>{'neg': 0.04, 'neu': 0.692, 'pos': 0.268, 'com...</td>\n",
       "      <td>0.0</td>\n",
       "    </tr>\n",
       "    <tr>\n",
       "      <th>3</th>\n",
       "      <td>pos</td>\n",
       "      <td>Excellent Soundtrack: I truly like this soundt...</td>\n",
       "      <td>{'neg': 0.09, 'neu': 0.615, 'pos': 0.295, 'com...</td>\n",
       "      <td>0.0</td>\n",
       "    </tr>\n",
       "    <tr>\n",
       "      <th>4</th>\n",
       "      <td>pos</td>\n",
       "      <td>Remember, Pull Your Jaw Off The Floor After He...</td>\n",
       "      <td>{'neg': 0.0, 'neu': 0.746, 'pos': 0.254, 'comp...</td>\n",
       "      <td>0.0</td>\n",
       "    </tr>\n",
       "  </tbody>\n",
       "</table>\n",
       "</div>"
      ],
      "text/plain": [
       "  label                                             review  \\\n",
       "0   pos  Stuning even for the non-gamer: This sound tra...   \n",
       "1   pos  The best soundtrack ever to anything.: I'm rea...   \n",
       "2   pos  Amazing!: This soundtrack is my favorite music...   \n",
       "3   pos  Excellent Soundtrack: I truly like this soundt...   \n",
       "4   pos  Remember, Pull Your Jaw Off The Floor After He...   \n",
       "\n",
       "                                              scores  compound  \n",
       "0  {'neg': 0.088, 'neu': 0.669, 'pos': 0.243, 'co...       0.0  \n",
       "1  {'neg': 0.018, 'neu': 0.837, 'pos': 0.145, 'co...       0.0  \n",
       "2  {'neg': 0.04, 'neu': 0.692, 'pos': 0.268, 'com...       0.0  \n",
       "3  {'neg': 0.09, 'neu': 0.615, 'pos': 0.295, 'com...       0.0  \n",
       "4  {'neg': 0.0, 'neu': 0.746, 'pos': 0.254, 'comp...       0.0  "
      ]
     },
     "execution_count": 61,
     "metadata": {},
     "output_type": "execute_result"
    }
   ],
   "source": [
    "df.head()"
   ]
  },
  {
   "cell_type": "code",
   "execution_count": 62,
   "metadata": {},
   "outputs": [],
   "source": [
    "df['compound']=df['scores'].apply(lambda d:d['compound'])"
   ]
  },
  {
   "cell_type": "code",
   "execution_count": 63,
   "metadata": {},
   "outputs": [
    {
     "data": {
      "text/html": [
       "<div>\n",
       "<style scoped>\n",
       "    .dataframe tbody tr th:only-of-type {\n",
       "        vertical-align: middle;\n",
       "    }\n",
       "\n",
       "    .dataframe tbody tr th {\n",
       "        vertical-align: top;\n",
       "    }\n",
       "\n",
       "    .dataframe thead th {\n",
       "        text-align: right;\n",
       "    }\n",
       "</style>\n",
       "<table border=\"1\" class=\"dataframe\">\n",
       "  <thead>\n",
       "    <tr style=\"text-align: right;\">\n",
       "      <th></th>\n",
       "      <th>label</th>\n",
       "      <th>review</th>\n",
       "      <th>scores</th>\n",
       "      <th>compound</th>\n",
       "    </tr>\n",
       "  </thead>\n",
       "  <tbody>\n",
       "    <tr>\n",
       "      <th>0</th>\n",
       "      <td>pos</td>\n",
       "      <td>Stuning even for the non-gamer: This sound tra...</td>\n",
       "      <td>{'neg': 0.088, 'neu': 0.669, 'pos': 0.243, 'co...</td>\n",
       "      <td>0.9454</td>\n",
       "    </tr>\n",
       "    <tr>\n",
       "      <th>1</th>\n",
       "      <td>pos</td>\n",
       "      <td>The best soundtrack ever to anything.: I'm rea...</td>\n",
       "      <td>{'neg': 0.018, 'neu': 0.837, 'pos': 0.145, 'co...</td>\n",
       "      <td>0.8957</td>\n",
       "    </tr>\n",
       "    <tr>\n",
       "      <th>2</th>\n",
       "      <td>pos</td>\n",
       "      <td>Amazing!: This soundtrack is my favorite music...</td>\n",
       "      <td>{'neg': 0.04, 'neu': 0.692, 'pos': 0.268, 'com...</td>\n",
       "      <td>0.9858</td>\n",
       "    </tr>\n",
       "    <tr>\n",
       "      <th>3</th>\n",
       "      <td>pos</td>\n",
       "      <td>Excellent Soundtrack: I truly like this soundt...</td>\n",
       "      <td>{'neg': 0.09, 'neu': 0.615, 'pos': 0.295, 'com...</td>\n",
       "      <td>0.9814</td>\n",
       "    </tr>\n",
       "    <tr>\n",
       "      <th>4</th>\n",
       "      <td>pos</td>\n",
       "      <td>Remember, Pull Your Jaw Off The Floor After He...</td>\n",
       "      <td>{'neg': 0.0, 'neu': 0.746, 'pos': 0.254, 'comp...</td>\n",
       "      <td>0.9781</td>\n",
       "    </tr>\n",
       "  </tbody>\n",
       "</table>\n",
       "</div>"
      ],
      "text/plain": [
       "  label                                             review  \\\n",
       "0   pos  Stuning even for the non-gamer: This sound tra...   \n",
       "1   pos  The best soundtrack ever to anything.: I'm rea...   \n",
       "2   pos  Amazing!: This soundtrack is my favorite music...   \n",
       "3   pos  Excellent Soundtrack: I truly like this soundt...   \n",
       "4   pos  Remember, Pull Your Jaw Off The Floor After He...   \n",
       "\n",
       "                                              scores  compound  \n",
       "0  {'neg': 0.088, 'neu': 0.669, 'pos': 0.243, 'co...    0.9454  \n",
       "1  {'neg': 0.018, 'neu': 0.837, 'pos': 0.145, 'co...    0.8957  \n",
       "2  {'neg': 0.04, 'neu': 0.692, 'pos': 0.268, 'com...    0.9858  \n",
       "3  {'neg': 0.09, 'neu': 0.615, 'pos': 0.295, 'com...    0.9814  \n",
       "4  {'neg': 0.0, 'neu': 0.746, 'pos': 0.254, 'comp...    0.9781  "
      ]
     },
     "execution_count": 63,
     "metadata": {},
     "output_type": "execute_result"
    }
   ],
   "source": [
    "df.head()"
   ]
  },
  {
   "cell_type": "code",
   "execution_count": 64,
   "metadata": {},
   "outputs": [],
   "source": [
    "df['compound_score']=df['compound'].apply(lambda score:'pos' if score>=0 else 'neg')"
   ]
  },
  {
   "cell_type": "code",
   "execution_count": 65,
   "metadata": {},
   "outputs": [
    {
     "data": {
      "text/html": [
       "<div>\n",
       "<style scoped>\n",
       "    .dataframe tbody tr th:only-of-type {\n",
       "        vertical-align: middle;\n",
       "    }\n",
       "\n",
       "    .dataframe tbody tr th {\n",
       "        vertical-align: top;\n",
       "    }\n",
       "\n",
       "    .dataframe thead th {\n",
       "        text-align: right;\n",
       "    }\n",
       "</style>\n",
       "<table border=\"1\" class=\"dataframe\">\n",
       "  <thead>\n",
       "    <tr style=\"text-align: right;\">\n",
       "      <th></th>\n",
       "      <th>label</th>\n",
       "      <th>review</th>\n",
       "      <th>scores</th>\n",
       "      <th>compound</th>\n",
       "      <th>compound_score</th>\n",
       "    </tr>\n",
       "  </thead>\n",
       "  <tbody>\n",
       "    <tr>\n",
       "      <th>0</th>\n",
       "      <td>pos</td>\n",
       "      <td>Stuning even for the non-gamer: This sound tra...</td>\n",
       "      <td>{'neg': 0.088, 'neu': 0.669, 'pos': 0.243, 'co...</td>\n",
       "      <td>0.9454</td>\n",
       "      <td>pos</td>\n",
       "    </tr>\n",
       "    <tr>\n",
       "      <th>1</th>\n",
       "      <td>pos</td>\n",
       "      <td>The best soundtrack ever to anything.: I'm rea...</td>\n",
       "      <td>{'neg': 0.018, 'neu': 0.837, 'pos': 0.145, 'co...</td>\n",
       "      <td>0.8957</td>\n",
       "      <td>pos</td>\n",
       "    </tr>\n",
       "    <tr>\n",
       "      <th>2</th>\n",
       "      <td>pos</td>\n",
       "      <td>Amazing!: This soundtrack is my favorite music...</td>\n",
       "      <td>{'neg': 0.04, 'neu': 0.692, 'pos': 0.268, 'com...</td>\n",
       "      <td>0.9858</td>\n",
       "      <td>pos</td>\n",
       "    </tr>\n",
       "    <tr>\n",
       "      <th>3</th>\n",
       "      <td>pos</td>\n",
       "      <td>Excellent Soundtrack: I truly like this soundt...</td>\n",
       "      <td>{'neg': 0.09, 'neu': 0.615, 'pos': 0.295, 'com...</td>\n",
       "      <td>0.9814</td>\n",
       "      <td>pos</td>\n",
       "    </tr>\n",
       "    <tr>\n",
       "      <th>4</th>\n",
       "      <td>pos</td>\n",
       "      <td>Remember, Pull Your Jaw Off The Floor After He...</td>\n",
       "      <td>{'neg': 0.0, 'neu': 0.746, 'pos': 0.254, 'comp...</td>\n",
       "      <td>0.9781</td>\n",
       "      <td>pos</td>\n",
       "    </tr>\n",
       "  </tbody>\n",
       "</table>\n",
       "</div>"
      ],
      "text/plain": [
       "  label                                             review  \\\n",
       "0   pos  Stuning even for the non-gamer: This sound tra...   \n",
       "1   pos  The best soundtrack ever to anything.: I'm rea...   \n",
       "2   pos  Amazing!: This soundtrack is my favorite music...   \n",
       "3   pos  Excellent Soundtrack: I truly like this soundt...   \n",
       "4   pos  Remember, Pull Your Jaw Off The Floor After He...   \n",
       "\n",
       "                                              scores  compound compound_score  \n",
       "0  {'neg': 0.088, 'neu': 0.669, 'pos': 0.243, 'co...    0.9454            pos  \n",
       "1  {'neg': 0.018, 'neu': 0.837, 'pos': 0.145, 'co...    0.8957            pos  \n",
       "2  {'neg': 0.04, 'neu': 0.692, 'pos': 0.268, 'com...    0.9858            pos  \n",
       "3  {'neg': 0.09, 'neu': 0.615, 'pos': 0.295, 'com...    0.9814            pos  \n",
       "4  {'neg': 0.0, 'neu': 0.746, 'pos': 0.254, 'comp...    0.9781            pos  "
      ]
     },
     "execution_count": 65,
     "metadata": {},
     "output_type": "execute_result"
    }
   ],
   "source": [
    "df.head()"
   ]
  },
  {
   "cell_type": "code",
   "execution_count": 1,
   "metadata": {},
   "outputs": [],
   "source": [
    "from sklearn.metrics import accuracy_score,classification_report"
   ]
  },
  {
   "cell_type": "code",
   "execution_count": 70,
   "metadata": {},
   "outputs": [
    {
     "data": {
      "text/plain": [
       "0.7091580350733259"
      ]
     },
     "execution_count": 70,
     "metadata": {},
     "output_type": "execute_result"
    }
   ],
   "source": [
    "accuracy_score(df['label'],df['compound_score'])"
   ]
  },
  {
   "cell_type": "code",
   "execution_count": 71,
   "metadata": {},
   "outputs": [
    {
     "name": "stdout",
     "output_type": "stream",
     "text": [
      "              precision    recall  f1-score   support\n",
      "\n",
      "         neg       0.86      0.51      0.64      4971\n",
      "         pos       0.64      0.91      0.75      4780\n",
      "\n",
      "    accuracy                           0.71      9751\n",
      "   macro avg       0.75      0.71      0.70      9751\n",
      "weighted avg       0.75      0.71      0.70      9751\n",
      "\n"
     ]
    }
   ],
   "source": [
    "print(classification_report(df['label'],df['compound_score']))"
   ]
  },
  {
   "cell_type": "code",
   "execution_count": null,
   "metadata": {},
   "outputs": [],
   "source": []
  },
  {
   "cell_type": "code",
   "execution_count": null,
   "metadata": {},
   "outputs": [],
   "source": []
  },
  {
   "cell_type": "code",
   "execution_count": null,
   "metadata": {},
   "outputs": [],
   "source": []
  },
  {
   "cell_type": "code",
   "execution_count": null,
   "metadata": {},
   "outputs": [],
   "source": []
  },
  {
   "cell_type": "code",
   "execution_count": null,
   "metadata": {},
   "outputs": [],
   "source": []
  }
 ],
 "metadata": {
  "kernelspec": {
   "display_name": "Python 3",
   "language": "python",
   "name": "python3"
  },
  "language_info": {
   "codemirror_mode": {
    "name": "ipython",
    "version": 3
   },
   "file_extension": ".py",
   "mimetype": "text/x-python",
   "name": "python",
   "nbconvert_exporter": "python",
   "pygments_lexer": "ipython3",
   "version": "3.7.3"
  }
 },
 "nbformat": 4,
 "nbformat_minor": 2
}
